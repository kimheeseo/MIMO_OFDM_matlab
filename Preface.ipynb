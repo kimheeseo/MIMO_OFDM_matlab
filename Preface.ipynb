{
  "nbformat": 4,
  "nbformat_minor": 0,
  "metadata": {
    "colab": {
      "provenance": [],
      "authorship_tag": "ABX9TyMODjI7ZoMTv660x9OegbPh",
      "include_colab_link": true
    },
    "kernelspec": {
      "name": "python3",
      "display_name": "Python 3"
    },
    "language_info": {
      "name": "python"
    }
  },
  "cells": [
    {
      "cell_type": "markdown",
      "metadata": {
        "id": "view-in-github",
        "colab_type": "text"
      },
      "source": [
        "<a href=\"https://colab.research.google.com/github/kimheeseo/MIMO_OFDM_matlab/blob/main/Preface.ipynb\" target=\"_parent\"><img src=\"https://colab.research.google.com/assets/colab-badge.svg\" alt=\"Open In Colab\"/></a>"
      ]
    },
    {
      "cell_type": "code",
      "execution_count": null,
      "metadata": {
        "id": "98nNPKoEhvJN"
      },
      "outputs": [],
      "source": [
        "Preface\n",
        "MIMO-OFDM is a key technology for next-generation celluar communications as well as wirelss LAN, wireless PAN, and broadcasting.\n",
        "\n",
        "The authors hope that this book can be used as a reference for practicing engineers and students who want to acquire basic conecpts and develop an algorithm on MIMO-OFDM using the MATLAB program.\n",
        "- 이 책의 저자들은 해당 책을 통해, 엔지니어와 학생들이 matlab과 MIMO-OFDM의 지식을 쌓고 훈련하는 시간을 갖기를 바란다."
      ]
    }
  ]
}